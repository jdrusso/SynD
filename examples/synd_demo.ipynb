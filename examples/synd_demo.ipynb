{
 "cells": [
  {
   "cell_type": "markdown",
   "id": "4ef5b397-ad35-4957-99ff-bedc6c93620e",
   "metadata": {},
   "source": [
    "# SynD Model Creation and Trajectory Generation\n",
    "[![Binder](https://mybinder.org/badge_logo.svg)](https://mybinder.org/v2/gh/jdrusso/SynD/HEAD?labpath=examples%2Fsynd_demo.ipynb)"
   ]
  },
  {
   "cell_type": "code",
   "execution_count": 1,
   "id": "d24617a5-8f47-4d76-94d3-8e4b0046fc5b",
   "metadata": {},
   "outputs": [],
   "source": [
    "from synd.models.discrete.markov import MarkovGenerator\n",
    "from synd.core import load_model\n",
    "import pickle\n",
    "from scipy import sparse\n",
    "import numpy as np"
   ]
  },
  {
   "cell_type": "markdown",
   "id": "dd05afa5-ac7c-481a-960e-6ab8c149395a",
   "metadata": {},
   "source": [
    "### Define backmapping\n",
    "\n",
    "Here, the backmapping is just defined as a dictionary.\n",
    "\n",
    "Each discrete state has a unique progress coordinate value, computed from the atomistic structures.\n",
    "Note that there's no reason this has to be a 1D progress coordinate -- this can map discrete states to 3D atomic structures, too.\n",
    "Or, instead of a 1:1 mapping, you could (at the cost of a performance hit) do more complex things, such as slightly modifying the structure before mapping it, or mapping states to out-of-sample structures with something like Deep Generative MSMs."
   ]
  },
  {
   "cell_type": "code",
   "execution_count": 2,
   "id": "b7e574a3-1bf8-452d-8eda-57d2b44f29d9",
   "metadata": {},
   "outputs": [],
   "source": [
    "pcoord_map_path = 'data/trp-cage/pcoord_map.pkl'\n",
    "\n",
    "with open(pcoord_map_path, 'rb') as infile:\n",
    "    pcoord_map = pickle.load(infile)\n",
    "    \n",
    "backmapper = pcoord_map.get"
   ]
  },
  {
   "cell_type": "code",
   "execution_count": 3,
   "id": "611bb212-634b-4a86-b9e2-eb6a326f910f",
   "metadata": {
    "scrolled": true,
    "tags": []
   },
   "outputs": [
    {
     "data": {
      "text/plain": [
       "array([0.19300674])"
      ]
     },
     "execution_count": 3,
     "metadata": {},
     "output_type": "execute_result"
    }
   ],
   "source": [
    "pcoord_map[0]"
   ]
  },
  {
   "cell_type": "markdown",
   "id": "98c0e5fa-d124-4a5d-b0d0-7e0bafa8f4ed",
   "metadata": {},
   "source": [
    "### Define transition matrix\n",
    "\n",
    "This is a 10,500-state transition matrix, built from a long atomistic Trp-cage MD trajectory."
   ]
  },
  {
   "cell_type": "code",
   "execution_count": 4,
   "id": "5ed98b9e-9935-45d8-9443-7cc2a95be542",
   "metadata": {},
   "outputs": [],
   "source": [
    "transition_matrix_path = 'data/trp-cage/sparse_tmatrix.npz'\n",
    "\n",
    "transition_matrix = sparse.load_npz(transition_matrix_path)"
   ]
  },
  {
   "cell_type": "markdown",
   "id": "f4ed0029-a104-4e2b-a6f3-8962fed522f5",
   "metadata": {},
   "source": [
    "### Create and save SynD model"
   ]
  },
  {
   "cell_type": "code",
   "execution_count": 5,
   "id": "d5cf21fd-9403-41b9-ab83-22b92266d26a",
   "metadata": {},
   "outputs": [],
   "source": [
    "synd_model = MarkovGenerator(\n",
    "    transition_matrix=transition_matrix,\n",
    "    backmapper=backmapper,\n",
    "    seed=None\n",
    ")"
   ]
  },
  {
   "cell_type": "code",
   "execution_count": 6,
   "id": "4dc46cdc-4e2d-45dd-8464-2df30be80e3a",
   "metadata": {
    "scrolled": true,
    "tags": []
   },
   "outputs": [],
   "source": [
    "synd_model.save('trp-cage.synd')"
   ]
  },
  {
   "cell_type": "markdown",
   "id": "ed3750c0-009f-412a-a45e-7e9952861ff3",
   "metadata": {},
   "source": [
    "## Generate data\n",
    "\n",
    "Let's generate a 200us trajectory..."
   ]
  },
  {
   "cell_type": "code",
   "execution_count": 7,
   "id": "1c1f1921-0f6f-4ed0-b005-a7fd83674b10",
   "metadata": {},
   "outputs": [
    {
     "name": "stdout",
     "output_type": "stream",
     "text": [
      "CPU times: user 1.86 s, sys: 0 ns, total: 1.86 s\n",
      "Wall time: 1.86 s\n"
     ]
    },
    {
     "data": {
      "text/plain": [
       "array([[1871,  583,  728, ..., 9356, 8555, 8555]])"
      ]
     },
     "execution_count": 7,
     "metadata": {},
     "output_type": "execute_result"
    }
   ],
   "source": [
    "%%time\n",
    "\n",
    "trajectory = synd_model.generate_trajectory(\n",
    "    initial_states=np.array([1871]),\n",
    "    n_steps=200000\n",
    ")\n",
    "trajectory"
   ]
  },
  {
   "cell_type": "markdown",
   "id": "87753557-5025-4e04-9b43-286331e6f377",
   "metadata": {},
   "source": [
    "## Backmap to progress coordinate"
   ]
  },
  {
   "cell_type": "code",
   "execution_count": 8,
   "id": "df996817-53b5-40fc-9037-10b5098145ab",
   "metadata": {},
   "outputs": [
    {
     "data": {
      "text/plain": [
       "array([[4.68604740e-05, 1.94142014e-01, 1.29532188e-01, ...,\n",
       "        5.40355384e-01, 8.78116250e-01, 8.78116250e-01]])"
      ]
     },
     "execution_count": 8,
     "metadata": {},
     "output_type": "execute_result"
    }
   ],
   "source": [
    "synd_model.backmap(trajectory)"
   ]
  },
  {
   "cell_type": "markdown",
   "id": "63f1c4c5-fdfe-431d-a582-128361a34094",
   "metadata": {
    "tags": []
   },
   "source": [
    "## Load saved SynD model, and generate data"
   ]
  },
  {
   "cell_type": "code",
   "execution_count": 9,
   "id": "e92acd5a-6379-4318-85df-1957aa2dd374",
   "metadata": {},
   "outputs": [],
   "source": [
    "loaded_model = load_model('trp-cage.synd')"
   ]
  },
  {
   "cell_type": "code",
   "execution_count": 10,
   "id": "719c8cd1-3cdc-48e1-ad1d-e7df128f4d12",
   "metadata": {},
   "outputs": [
    {
     "data": {
      "text/plain": [
       "array([[1871,  583,  728,  847,  809],\n",
       "       [2003,  991,  324,  102,  870]])"
      ]
     },
     "execution_count": 10,
     "metadata": {},
     "output_type": "execute_result"
    }
   ],
   "source": [
    "loaded_model.generate_trajectory(\n",
    "    initial_states = np.array([1871, 2003]),\n",
    "    n_steps = 5\n",
    ")"
   ]
  }
 ],
 "metadata": {
  "kernelspec": {
   "display_name": "Python 3 (ipykernel)",
   "language": "python",
   "name": "python3"
  },
  "language_info": {
   "codemirror_mode": {
    "name": "ipython",
    "version": 3
   },
   "file_extension": ".py",
   "mimetype": "text/x-python",
   "name": "python",
   "nbconvert_exporter": "python",
   "pygments_lexer": "ipython3",
   "version": "3.9.13"
  }
 },
 "nbformat": 4,
 "nbformat_minor": 5
}
